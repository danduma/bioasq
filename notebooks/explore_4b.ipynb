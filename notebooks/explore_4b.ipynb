{
 "cells": [
  {
   "cell_type": "code",
   "execution_count": 13,
   "metadata": {
    "collapsed": false
   },
   "outputs": [],
   "source": [
    "%matplotlib inline\n",
    "import json\n",
    "qs=json.load(file(\"../data/4b/BioASQ-trainingDataset4b.json\"))"
   ]
  },
  {
   "cell_type": "code",
   "execution_count": 11,
   "metadata": {
    "collapsed": false
   },
   "outputs": [
    {
     "data": {
      "text/plain": [
       "[u'questions']"
      ]
     },
     "execution_count": 11,
     "metadata": {},
     "output_type": "execute_result"
    }
   ],
   "source": [
    "qs.keys()"
   ]
  },
  {
   "cell_type": "code",
   "execution_count": 14,
   "metadata": {
    "collapsed": true
   },
   "outputs": [],
   "source": [
    "import matplotlib\n",
    "matplotlib.style.use('ggplot')"
   ]
  },
  {
   "cell_type": "code",
   "execution_count": 128,
   "metadata": {
    "collapsed": false
   },
   "outputs": [
    {
     "data": {
      "image/png": "[encoded data removed]",
      "text/plain": [
       "<matplotlib.figure.Figure at 0x3b140400>"
      ]
     },
     "metadata": {},
     "output_type": "display_data"
    }
   ],
   "source": [
    "# Number of questions of each type\n",
    "import pandas as pd\n",
    "from collections import Counter\n",
    "types=[q[\"type\"] for q in qs[\"questions\"]]\n",
    "df=pd.Series(types).value_counts(sort=False).plot.bar()"
   ]
  },
  {
   "cell_type": "code",
   "execution_count": 34,
   "metadata": {
    "collapsed": false
   },
   "outputs": [],
   "source": [
    "from collections import defaultdict\n",
    "by_type=defaultdict(lambda:[])\n",
    "for q in qs[\"questions\"]:\n",
    "    by_type[q[\"type\"]].append(q)"
   ]
  },
  {
   "cell_type": "markdown",
   "metadata": {},
   "source": [
    "Yes/No questions\n",
    "----------------"
   ]
  },
  {
   "cell_type": "code",
   "execution_count": 50,
   "metadata": {
    "collapsed": false
   },
   "outputs": [
    {
     "data": {
      "text/plain": [
       "20"
      ]
     },
     "execution_count": 50,
     "metadata": {},
     "output_type": "execute_result"
    }
   ],
   "source": [
    "# The yes/no answers are not perfectly standardized\n",
    "errors=[q for q in by_type[\"yesno\"] if q[\"exact_answer\"] not in [\"yes\",\"no\"]]\n",
    "len(errors)"
   ]
  },
  {
   "cell_type": "code",
   "execution_count": 60,
   "metadata": {
    "collapsed": false
   },
   "outputs": [
    {
     "data": {
      "text/plain": [
       "[u'Yes.', u'No.']"
      ]
     },
     "execution_count": 60,
     "metadata": {},
     "output_type": "execute_result"
    }
   ],
   "source": [
    "# Capitalization varies but 2 examples even have a period in them\n",
    "errors=[q for q in by_type[\"yesno\"] if q[\"exact_answer\"].lower() not in [\"yes\",\"no\"]]\n",
    "[q[\"exact_answer\"] for q in errors]"
   ]
  },
  {
   "cell_type": "code",
   "execution_count": 55,
   "metadata": {
    "collapsed": false
   },
   "outputs": [
    {
     "data": {
      "text/plain": [
       "<matplotlib.axes._subplots.AxesSubplot at 0x18e98e10>"
      ]
     },
     "execution_count": 55,
     "metadata": {},
     "output_type": "execute_result"
    },
    {
     "data": {
      "image/png": "[encoded data removed]",
      "text/plain": [
       "<matplotlib.figure.Figure at 0x1886c710>"
      ]
     },
     "metadata": {},
     "output_type": "display_data"
    }
   ],
   "source": [
    "# Sorry seems to be the hardest word and Yes the right answer\n",
    "yesno=[q[\"exact_answer\"].lower().strip(\".\") for q in by_type[\"yesno\"]]\n",
    "count=Counter(yesno)\n",
    "pd.Series(count).plot.bar()"
   ]
  },
  {
   "cell_type": "code",
   "execution_count": 63,
   "metadata": {
    "collapsed": false
   },
   "outputs": [
    {
     "name": "stdout",
     "output_type": "stream",
     "text": [
      "Counter({u'yes': 317, u'no': 51}) = 368\n"
     ]
    }
   ],
   "source": [
    "total=(count[\"yes\"]+count[\"no\"])\n",
    "print count, \"=\", total"
   ]
  },
  {
   "cell_type": "code",
   "execution_count": 64,
   "metadata": {
    "collapsed": false
   },
   "outputs": [
    {
     "data": {
      "text/plain": [
       "0.8614130434782609"
      ]
     },
     "execution_count": 64,
     "metadata": {},
     "output_type": "execute_result"
    }
   ],
   "source": [
    "count[\"yes\"]/float(total)"
   ]
  },
  {
   "cell_type": "markdown",
   "metadata": {},
   "source": [
    "Factoid questions\n",
    "----------------"
   ]
  },
  {
   "cell_type": "code",
   "execution_count": 70,
   "metadata": {
    "collapsed": false
   },
   "outputs": [
    {
     "data": {
      "text/plain": [
       "<matplotlib.axes._subplots.AxesSubplot at 0x162123c8>"
      ]
     },
     "execution_count": 70,
     "metadata": {},
     "output_type": "execute_result"
    },
    {
     "data": {
      "image/png": "[encoded data removed]",
      "text/plain": [
       "<matplotlib.figure.Figure at 0x17667fd0>"
      ]
     },
     "metadata": {},
     "output_type": "display_data"
    }
   ],
   "source": [
    "# Factoid questions answer length. Most factoid questions have a single element to return\n",
    "lengths=[len(q[\"exact_answer\"]) for q in by_type[\"factoid\"]]\n",
    "pd.Series(Counter(lengths)).plot.bar()"
   ]
  },
  {
   "cell_type": "code",
   "execution_count": 191,
   "metadata": {
    "collapsed": false
   },
   "outputs": [
    {
     "name": "stdout",
     "output_type": "stream",
     "text": [
      "Which is the main CHEK2 genetic variant, thought to be involved in familial breast cancer?\n",
      "[[u'CHEK2 1100delC mutation']]\n"
     ]
    }
   ],
   "source": [
    "print by_type[\"factoid\"][0]['body']\n",
    "print by_type[\"factoid\"][0]['exact_answer']"
   ]
  },
  {
   "cell_type": "markdown",
   "metadata": {},
   "source": [
    "List questions\n",
    "----------------"
   ]
  },
  {
   "cell_type": "code",
   "execution_count": 87,
   "metadata": {
    "collapsed": false
   },
   "outputs": [
    {
     "data": {
      "text/plain": [
       "<matplotlib.axes._subplots.AxesSubplot at 0x22170390>"
      ]
     },
     "execution_count": 87,
     "metadata": {},
     "output_type": "execute_result"
    },
    {
     "data": {
      "image/png": "[encoded data removed]",
      "text/plain": [
       "<matplotlib.figure.Figure at 0x2217da90>"
      ]
     },
     "metadata": {},
     "output_type": "display_data"
    }
   ],
   "source": [
    "# List questions answer length in separate items (includes lists of items). \n",
    "lengths=[len(q[\"exact_answer\"]) for q in by_type[\"list\"]]\n",
    "pd.Series(lengths).value_counts(sort=False).plot.bar()"
   ]
  },
  {
   "cell_type": "code",
   "execution_count": 184,
   "metadata": {
    "collapsed": true
   },
   "outputs": [],
   "source": [
    "def list_question_length(q):\n",
    "    l=0\n",
    "    ans=q[\"exact_answer\"] \n",
    "    if isinstance(ans, basestring):\n",
    "        ans=[ans]\n",
    "    for e in ans:\n",
    "        if not isinstance(e,list):\n",
    "            e=[e]\n",
    "        for e2 in e:\n",
    "            if isinstance(e2,list):\n",
    "                e2=\" \".join(e2)\n",
    "            l+=len(e2.split())\n",
    "    return l"
   ]
  },
  {
   "cell_type": "code",
   "execution_count": 185,
   "metadata": {
    "collapsed": false,
    "scrolled": true
   },
   "outputs": [
    {
     "data": {
      "text/plain": [
       "count    327.000000\n",
       "mean      13.700306\n",
       "std       15.271634\n",
       "min        2.000000\n",
       "25%        5.000000\n",
       "50%       10.000000\n",
       "75%       16.500000\n",
       "max      175.000000\n",
       "dtype: float64"
      ]
     },
     "execution_count": 185,
     "metadata": {},
     "output_type": "execute_result"
    }
   ],
   "source": [
    "# List questions answer length in tokens varies a lot\n",
    "token_lengths=[list_question_length(q) for q in by_type[\"list\"]]\n",
    "                \n",
    "df=pd.Series(token_lengths)\n",
    "df.describe()"
   ]
  },
  {
   "cell_type": "code",
   "execution_count": 186,
   "metadata": {
    "collapsed": false
   },
   "outputs": [
    {
     "data": {
      "text/plain": [
       "<matplotlib.axes._subplots.AxesSubplot at 0x409d1cf8>"
      ]
     },
     "execution_count": 186,
     "metadata": {},
     "output_type": "execute_result"
    },
    {
     "data": {
      "image/png": "[encoded data removed]",
      "text/plain": [
       "<matplotlib.figure.Figure at 0x40854ef0>"
      ]
     },
     "metadata": {},
     "output_type": "display_data"
    }
   ],
   "source": [
    "# Distribution is very skewed towards fewer tokens but there are some list answers with a lot of tokens in the answer\n",
    "df.value_counts().plot.bar()"
   ]
  },
  {
   "cell_type": "code",
   "execution_count": 151,
   "metadata": {
    "collapsed": false
   },
   "outputs": [
    {
     "name": "stdout",
     "output_type": "stream",
     "text": [
      "[[u\"Use of a Multidrug Pill In Reducing cardiovascular Events' (UMPIRE) trial, European Clinical Trials database\\\\, as EudraCT: 2009-016278-34 and the Clinical Trials Registry\\\\, India as CTRI/2010/091/000250.\"], [u\"IMProving Adherence using Combination Therapy (IMPACT)', Australian New Zealand Clinical Trial Registry (ACTRN12606000067572)\"], [u'Kanyini Guidelines Adherence with the Polypill (Kanyini-GAP)'], [u'Phase II study of the Polycap, double-blind\\\\, randomised trial\\\\, registered with ClinicalTrials.gov\\\\, number NCT00443794', u'ndian Polycap Study, TIPS'], [u'Cluster Randomized Usual Care vs Caduet Investigation Assessing Long-term-risk (CRUCIAL trial)'], [u'GEMINI trial, 14-week\\\\, open-label trial conducted in 1220 patients from the USA'], [u'GEMINI-Australia, Asia\\\\, Latin America\\\\, Africa/Middle East (AALA) study'], [u'JEWEL 1 conducted among 1138 patients from the UK and Canada'], [u'JEWEL 2 conducted in 1107 patients from Europe'], [u'CAPABLE54, the Clinical Utility of Caduet in Simultaneously Achieving Blood Pressure and Lipid End Points\\\\, in the USA'], [u'CUSP (The Caduet\\xae in an Untreated Subject Population trial)'], [u'TOGETHER trial'], [u'A randomised controlled trial in seven countries \\u2013 Australia, Brazil\\\\, India\\\\, Netherlands\\\\, New Zealand\\\\, United Kingdom and United States\\\\, Australian New Zealand Clinical Trials Registry (ACTRN 12607000099426)'], [u'Second Indian Polycap Study, TIPS-2']]\n"
     ]
    }
   ],
   "source": [
    "# Unusually long answer\n",
    "for q in by_type[\"list\"]:\n",
    "    if list_question_length(q) > 170:\n",
    "        print q[\"exact_answer\"]"
   ]
  },
  {
   "cell_type": "code",
   "execution_count": 182,
   "metadata": {
    "collapsed": false
   },
   "outputs": [
    {
     "name": "stdout",
     "output_type": "stream",
     "text": [
      "[[u'diuretic'], [u'hypertension']]\n",
      "[[u'T68'], [u'S19'], [u'S33/35']]\n",
      "[[u'sagittal'], [u'lambdoid']]\n",
      "[[u'icatibant'], [u'ecallantide']]\n",
      "[[u'schizophrenia'], [u'major depressive disorder']]\n",
      "[[u'PMP22'], [u'MPZ'], [u'SH3TC2']]\n",
      "[[u'no associations found yet']]\n",
      "[[u'Vemurafenib'], [u'Dabrafenib']]\n",
      "[[u'fluorouracil'], [u'epirubicin'], [u'cyclophosphamide']]\n",
      "[[u'radiotherapy'], [u'chemotherapy']]\n",
      "[[u'everolimus'], [u'rapamycin']]\n",
      "[[u'fludarabine'], [u'cytarabine'], [u'amsacrine']]\n",
      "[[u'COL5A1'], [u'COL5A2']]\n",
      "[[u'dexamethasone'], [u'cytarabine'], [u'cisplatin'], [u'rituximab']]\n",
      "[[u'juvenile hemochromatosis']]\n",
      "[[u'Gata4'], [u'Mef2c'], [u'Tbx5']]\n",
      "[[u'istradefylline'], [u'preladenant']]\n",
      "[[u'orexin 1'], [u'orexin 2']]\n",
      "[[u'hypomyelination'], [u'hypodontia'], [u'hypogonadotropic hypogonadism']]\n",
      "[[u'p65', u'RelA'], [u'p50', u'NF-\\u03baB1']]\n",
      "[[u'Notch-1'], [u'Notch-2'], [u'Notch-3'], [u'Notch-4']]\n",
      "[[u'Ulcerative colitis'], [u\"Crohn's disease\"]]\n",
      "[[u'prostate cancer'], [u'melanoma'], [u'angiosarcoma']]\n",
      "[[u'Upf1p'], [u'Nmd2p'], [u'Upf3p']]\n",
      "[[u'KRAS'], [u'EGFR'], [u'BRAF'], [u'T53']]\n",
      "[[u'H-Ras'], [u'N-Ras'], [u'K-Ras4A'], [u'K-Ras4B']]\n",
      "[[u'D22S1'], [u'D22S15']]\n",
      "[[u'tunicates'], [u'diptera'], [u'worm'], [u'yeast']]\n",
      "[[u'Ancora'], [u'TFCONES']]\n",
      "[[u'dnaE'], [u'polC']]\n",
      "[[u'MutY'], [u'MutM'], [u'MutT']]\n",
      "[[u'mutS'], [u'mutL'], [u'mutH']]\n",
      "[[u'ExTopoDB'], [u'TMPDB']]\n",
      "[[u'askHERMES'], [u'EAGLi'], [u'HONQA'], [u'INDOC']]\n",
      "[[u'AzgA'], [u'Fcy21p']]\n",
      "[[u'Mfd'], [u'NusA']]\n",
      "[[u'myosins-Ibeta'], [u'myosin-VI'], [u'myosin-VIIa']]\n",
      "[[u'NBEAL2'], [u'GFI1B'], [u'GATA1']]\n",
      "[[u'negative inotropism'], [u'negative chronotropy']]\n",
      "[[u'Bapineuzumab'], [u'Solanezumab'], [u'Ponezumab'], [u'Gantenerumab']]\n",
      "[[u'quinoline-3-carbonitriles'], [u'indazoles'], [u'thieno-pyrimidines']]\n",
      "[[u'R403Q', u'Arg403Gln'], [u'Q1065H'], [u'Arg-249-->Gln']]\n",
      "[[u'DIO 2 Thr92Ala'], [u'rs7140952']]\n",
      "[[u'TRIAC', u'TETRAC']]\n",
      "[[u'ponezumab'], [u'solanezumab'], [u'bapineuzumab'], [u'Gantenerumab']]\n",
      "[[u'deoxycoformycin'], [u'pentostatin'], [u'nelarabine']]\n",
      "[[u'ichthyosis'], [u'trichothiodystrophy']]\n",
      "[[u'HU'], [u'H-NS'], [u'IHF']]\n",
      "[[u'Enistein'], [u'ACE inhibitors'], [u'']]\n",
      "[[u'loss of memory'], [u'dysmnesia']]\n",
      "[[u'Alemtuzumab'], [u'Campath-1H']]\n",
      "[[u'network-based methods']]\n",
      "[[u'H3K27me3'], [u'H3K27Ac'], [u'H3K9me3'], [u'H3K36me']]\n",
      "[[u'H2A.X'], [u'H2A.Z'], [u'H1R']]\n",
      "[[u'NELF'], [u'DSIF']]\n",
      "[[u'AFP'], [u'Estriol'], [u'hCG']]\n",
      "[[u'HU'], [u'IHF'], [u'H-NS']]\n",
      "[[u'YAP'], [u'TAZ']]\n",
      "[[u'phosphorylated tau'], [u'beta-amyloid']]\n",
      "[[u'TALEN'], [u'Crispr/CAS'], [u'zinc-finger nucleases']]\n",
      "[[u'AATAAA'], [u'AAUAAA']]\n",
      "[[u'adipose tissue'], [u'fibrotic tissue']]\n",
      "[[u'neostigmine'], [u'pyridostigmine']]\n",
      "[[u'H2'], [u'H3']]\n",
      "[[u'H4K20 monomethylation'], [u'H3K4 monomethylation']]\n",
      "[[u'DNMT1'], [u'DNMT2'], [u'DNMT3']]\n",
      "[[u'bootstrap'], [u'jackknife']]\n",
      "[[u'H4K20 monomethylation'], [u'H3K4 monomethylation']]\n",
      "[[u'MET'], [u'CMT'], [u'DRM']]\n",
      "[[u'PSPC1'], [u'SFPQ']]\n",
      "[[u'tolcapone'], [u'entacapone']]\n",
      "[[u'NF1 gene'], [u'chromosome 17']]\n",
      "[[u'breast cancer'], [u'colon cancer']]\n",
      "[[u'LINE-1', u'L1'], [u'Alu'], [u'SVA']]\n"
     ]
    }
   ],
   "source": [
    "# Standard length answers\n",
    "for q in by_type[\"list\"]:\n",
    "    if list_question_length(q) < 5:\n",
    "        print q[\"exact_answer\"]"
   ]
  },
  {
   "cell_type": "markdown",
   "metadata": {},
   "source": [
    "Summary questions\n",
    "----------------"
   ]
  },
  {
   "cell_type": "code",
   "execution_count": 183,
   "metadata": {
    "collapsed": true
   },
   "outputs": [],
   "source": [
    "def summary_question_length(q):\n",
    "    l=0\n",
    "    ans=q[\"ideal_answer\"] \n",
    "    if isinstance(ans, basestring):\n",
    "        ans=[ans]\n",
    "    for e in ans:\n",
    "        if not isinstance(e,list):\n",
    "            e=[e]\n",
    "        for e2 in e:\n",
    "            if isinstance(e2,list):\n",
    "                e2=\" \".join(e2)\n",
    "            l+=len(e2.split())\n",
    "    return l"
   ]
  },
  {
   "cell_type": "code",
   "execution_count": 160,
   "metadata": {
    "collapsed": false
   },
   "outputs": [
    {
     "data": {
      "text/plain": [
       "count     285.000000\n",
       "mean      108.494737\n",
       "std       144.914439\n",
       "min         2.000000\n",
       "25%        32.000000\n",
       "50%        58.000000\n",
       "75%       123.000000\n",
       "max      1002.000000\n",
       "dtype: float64"
      ]
     },
     "execution_count": 160,
     "metadata": {},
     "output_type": "execute_result"
    }
   ],
   "source": [
    "# Summary questions ideal answer length \n",
    "lengths=pd.Series([summary_question_length(q) for q in by_type[\"summary\"]])\n",
    "lengths.describe()"
   ]
  },
  {
   "cell_type": "code",
   "execution_count": 170,
   "metadata": {
    "collapsed": false
   },
   "outputs": [
    {
     "data": {
      "text/plain": [
       "<matplotlib.axes._subplots.AxesSubplot at 0x3cddb128>"
      ]
     },
     "execution_count": 170,
     "metadata": {},
     "output_type": "execute_result"
    },
    {
     "data": {
      "image/png": "[encoded data removed]",
      "text/plain": [
       "<matplotlib.figure.Figure at 0x3ddabcc0>"
      ]
     },
     "metadata": {},
     "output_type": "display_data"
    }
   ],
   "source": [
    "lengths.value_counts(sort=True).plot.bar()"
   ]
  },
  {
   "cell_type": "code",
   "execution_count": 172,
   "metadata": {
    "collapsed": false
   },
   "outputs": [
    {
     "name": "stdout",
     "output_type": "stream",
     "text": [
      "[u'An unusual feature of the Diptera is that homologous chromosomes are intimately synapsed in somatic cells. At a number of loci in Drosophila, this pairing can significantly influence gene expression. Such influences were first detected within the bithorax complex (BX-C) by E.B. Lewis, who coined the term transvection to describe them. Most cases of transvection involve the action of enhancers in trans. At several loci deletion of the promoter greatly increases this action in trans, suggesting that enhancers are normally tethered in cis by the promoter region. Transvection can also occur by the action of silencers in trans or by the spreading of position effect variegation from rearrangements having heterochromatic breakpoints to paired unrearranged chromosomes. Although not demonstrated, other cases of transvection may involve the production of joint RNAs by trans-splicing. Several cases of transvection require Zeste, a DNA-binding protein that is thought to facilitate homolog interactions by self-aggregation. Genes showing transvection can differ greatly in their response to pairing disruption. In several cases, transvection appears to require intimate synapsis of homologs. However, in at least one case (transvection of the iab-5,6,7 region of the BX-C), transvection is independent of synapsis within and surrounding the interacting gene. The latter example suggests that transvection could well occur in organisms that lack somatic pairing. In support of this, transvection-like phenomena have been described in a number of different organisms, including plants, fungi, and mammals.', u'Pairing-dependent interallelic complementation was first described for the Ultrabithorax gene of the bithorax-complex in Drosophila by Lewis and cited as an example of a new phenomenon that Lewis called the  trans-vection effect.  Several different kinds of pairing-dependent gene expression have been observed in Drosophila, and it is now clear that a variety of different molecular mechanisms probably underlie the changes in gene expression that are observed after disrupting chromosome pairing. Transvection in the bithorax-complex appears to result from the ability of cis-regulatory elements to regulate transcription of the promoter on the homologous chromosome. The same phenomenon appears to be responsible for pairing-dependent interallelic complementation at numerous other genes in Drosophila. Some transvection effects are dependent on the presence of wild-type or specific mutant forms of the protein encoded by the zeste trans-regulatory gene, but other transvection effects are zeste-independent. The ease with which chromosome aberrations can disrupt transvection also varies widely among different genes  ', u'Pairing-dependent interallelic complementation was first described for the Ultrabithorax gene of the bithorax-complex in Drosophila by Lewis and cited as an example of a new phenomenon that Lewis called the  trans-vection effect.  Several different kinds of pairing-dependent gene expression have been observed in Drosophila, and it is now clear that a variety of different molecular mechanisms probably underlie the changes in gene expression that are observed after disrupting chromosome pairing. Transvection in the bithorax-complex appears to result from the ability of cis-regulatory elements to regulate transcription of the promoter on the homologous chromosome. The same phenomenon appears to be responsible for pairing-dependent interallelic complementation at numerous other genes in Drosophila. Some transvection effects are dependent on the presence of wild-type or specific mutant forms of the protein encoded by the zeste trans-regulatory gene, but other transvection effects are zeste-independent. The ease with which chromosome aberrations can disrupt transvection also varies widely among different genes  ', u'Pairing-dependent interallelic complementation was first described for the Ultrabithorax gene of the bithorax-complex in Drosophila by Lewis and cited as an example of a new phenomenon that Lewis called the  trans-vection effect.  Several different kinds of pairing-dependent gene expression have been observed in Drosophila, and it is now clear that a variety of different molecular mechanisms probably underlie the changes in gene expression that are observed after disrupting chromosome pairing. Transvection in the bithorax-complex appears to result from the ability of cis-regulatory elements to regulate transcription of the promoter on the homologous chromosome. The same phenomenon appears to be responsible for pairing-dependent interallelic complementation at numerous other genes in Drosophila. Some transvection effects are dependent on the presence of wild-type or specific mutant forms of the protein encoded by the zeste trans-regulatory gene, but other transvection effects are zeste-independent. The ease with which chromosome aberrations can disrupt transvection also varies widely among different genes  ', u'Pairing-dependent interallelic complementation was first described for the Ultrabithorax gene of the bithorax-complex in Drosophila by Lewis and cited as an example of a new phenomenon that Lewis called the  trans-vection effect.  Several different kinds of pairing-dependent gene expression have been observed in Drosophila, and it is now clear that a variety of different molecular mechanisms probably underlie the changes in gene expression that are observed after disrupting chromosome pairing. Transvection in the bithorax-complex appears to result from the ability of cis-regulatory elements to regulate transcription of the promoter on the homologous chromosome. The same phenomenon appears to be responsible for pairing-dependent interallelic complementation at numerous other genes in Drosophila. Some transvection effects are dependent on the presence of wild-type or specific mutant forms of the protein encoded by the zeste trans-regulatory gene, but other transvection effects are zeste-independent. The ease with which chromosome aberrations can disrupt transvection also varies widely among different genes  ', u'Pairing-dependent interallelic complementation was first described for the Ultrabithorax gene of the bithorax-complex in Drosophila by Lewis and cited as an example of a new phenomenon that Lewis called the  trans-vection effect.  Several different kinds of pairing-dependent gene expression have been observed in Drosophila, and it is now clear that a variety of different molecular mechanisms probably underlie the changes in gene expression that are observed after disrupting chromosome pairing. Transvection in the bithorax-complex appears to result from the ability of cis-regulatory elements to regulate transcription of the promoter on the homologous chromosome. The same phenomenon appears to be responsible for pairing-dependent interallelic complementation at numerous other genes in Drosophila. Some transvection effects are dependent on the presence of wild-type or specific mutant forms of the protein encoded by the zeste trans-regulatory gene, but other transvection effects are zeste-independent. The ease with which chromosome aberrations can disrupt transvection also varies widely among different genes  ']\n"
     ]
    }
   ],
   "source": [
    "#Unusually long summary\n",
    "\n",
    "for q in by_type[\"summary\"]:\n",
    "    if summary_question_length(q) > 1000:\n",
    "        print json.dumps(q[\"ideal_answer\"], indent=2)"
   ]
  },
  {
   "cell_type": "code",
   "execution_count": 178,
   "metadata": {
    "collapsed": false
   },
   "outputs": [
    {
     "name": "stdout",
     "output_type": "stream",
     "text": [
      "[u'Odorant co-receptor.']\n",
      "[u'TNF-alpha inhibits the T3-induced expression of thyroid hormone receptor-beta']\n",
      "[u'Ranolazine inhibits Ca(2+)/calmodulin kinase II (CaMKII) activity']\n",
      "[u'TRH improves myocardial contractility']\n"
     ]
    }
   ],
   "source": [
    "#Unusually short summaries\n",
    "\n",
    "for q in by_type[\"summary\"]:\n",
    "    if summary_question_length(q) < 10:\n",
    "        print q[\"ideal_answer\"]"
   ]
  },
  {
   "cell_type": "code",
   "execution_count": 180,
   "metadata": {
    "collapsed": false
   },
   "outputs": [
    {
     "name": "stdout",
     "output_type": "stream",
     "text": [
      "[u'Inn1 associates with the contractile actomyosin ring at the end of mitosis and is needed for cytokinesis. Inn1 has a C2 domain at the amino terminus of the protein that is required for ingression of the plasma membrane during cytokinesis in budding yeast, whereas the remainder of the protein recruits Inn1 to the actomyosin ring']\n",
      "[u'Brain natriuretic peptide concentrations are elevated in patients with traumatic brain during the acute phase and correlate with poor outcomes. In traumatic brain injury patients higher brain natriuretic peptide concentrations are associated with more extensive SAH,  elevated ICP and hyponatremia. Brain natriuretic peptide may play an adaptive role in recovery through augmentation of cerebral blood flow.']\n",
      "[u'lincRNA may function either as modulators of epigenetic mark deposition or as endogenous antagonists for microRNA binding. A lincRNA, linc-RoR, may function as a key competing endogenous RNA to link the network of miRNAs and core TFs, e.g., Oct4, Sox2, and Nanog. Mdig is involved in the regulation of H3K9me3 to influence the heterochromatin structure of the genome and the expression of genes important for cell growth or transformation. Observed biases in lincRNA genomic locations and expression profiles are consistent with some of these lincRNAs being involved in the regulation of neighboring protein-coding genes with developmental functions.']\n",
      "[u'Until now, two main types of therapeutic strategies have been developed using U1 small nuclear RNA (snRNA): 1) Production of a defective, but partially functional protein, with the help of exon skipping, through modulation of pre-mRNA splicing, and 2) Correction of pathogenic effects of splice donor site mutations with the use of U1 snRNA adapted to the defective variant.']\n",
      "[u'The MS signal of histones can be used as a \"proteomic ruler\" because it is proportional to the amount of DNA in the sample, which in turn depends on the number of cells. As a result, our proteomic ruler approach adds an absolute scale to the MS readout and allows estimation of the copy numbers of individual proteins per cell.']\n"
     ]
    }
   ],
   "source": [
    "#Standard summaries\n",
    "count=0\n",
    "for q in by_type[\"summary\"]:\n",
    "    if 20 < summary_question_length(q) < 100 and count < 5:\n",
    "        print q[\"ideal_answer\"]\n",
    "        count+=1"
   ]
  },
  {
   "cell_type": "code",
   "execution_count": null,
   "metadata": {
    "collapsed": true
   },
   "outputs": [],
   "source": []
  }
 ],
 "metadata": {
  "kernelspec": {
   "display_name": "Python 2",
   "language": "python",
   "name": "python2"
  },
  "language_info": {
   "codemirror_mode": {
    "name": "ipython",
    "version": 2
   },
   "file_extension": ".py",
   "mimetype": "text/x-python",
   "name": "python",
   "nbconvert_exporter": "python",
   "pygments_lexer": "ipython2",
   "version": "2.7.10"
  }
 },
 "nbformat": 4,
 "nbformat_minor": 0
}
